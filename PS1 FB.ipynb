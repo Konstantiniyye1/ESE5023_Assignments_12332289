{
 "cells": [
  {
   "cell_type": "markdown",
   "metadata": {},
   "source": [
    "Assignment 1 (due on 10/25)  \n",
    "学生：陈泽鲲 (12332289)，Github: Konstantiniyye1  \n",
    "批改人：Zhao Shuhui  \n",
    "得分：98/100  "
   ]
  },
  {
   "cell_type": "markdown",
   "metadata": {},
   "source": [
    "# PS1_1 \n",
    "9/10  \n",
    "1.创建了Print_values(a,b,c)方法 -1    b>c的反命题是b<=c；建议将a,b,c和结果一同输出方便检查  \n",
    "2.4种输出情况都能满足   √  \n",
    "3.报告里列出部分例子（此项本次不扣分仅提醒）    √"
   ]
  },
  {
   "cell_type": "code",
   "execution_count": 2,
   "metadata": {},
   "outputs": [
    {
     "name": "stdout",
     "output_type": "stream",
     "text": [
      "9 8 5\n",
      "65 48 29\n",
      "99 68 55\n"
     ]
    }
   ],
   "source": [
    "# %load PS1_1.py\n",
    "\"\"\"\n",
    "Created on Wed Oct 25 09:09:08 2023\n",
    "\n",
    "@author: 26576\n",
    "\"\"\"\n",
    "\n",
    "def Print_values(a,b,c):\n",
    "    if a>b:\n",
    "        if b>c:\n",
    "            print(a,b,c)\n",
    "        else:\n",
    "            if a>c:\n",
    "                print(a,c,b)\n",
    "            else:\n",
    "                print(c,a,b)\n",
    "    else:\n",
    "        if b<c:\n",
    "            print(c,b,a)\n",
    "            \n",
    "            \n",
    "Print_values(5,8,9)\n",
    "Print_values(51,82,19)\n",
    "Print_values(25,48,39)\n",
    "Print_values(65,48,29)\n",
    "Print_values(55,68,99)"
   ]
  },
  {
   "cell_type": "markdown",
   "metadata": {},
   "source": [
    "# PS1_2\n",
    "14/15  \n",
    "1.能自行创建矩阵M1(5行10列)和M2(10行5列)    √  \n",
    "2.M1, M2的数值范围为0到50的整数 √  \n",
    "3.创建能进行矩阵乘法的方法Matrix_multip()   -1  矩阵乘法只要求前者的列数等于后者的行数  \n",
    "4.方法内仅使用for循环, *和+运算符   √  \n",
    "5.报告里列出部分例子（此项本次不扣分仅提醒）    √  "
   ]
  },
  {
   "cell_type": "code",
   "execution_count": 12,
   "metadata": {},
   "outputs": [
    {
     "name": "stdout",
     "output_type": "stream",
     "text": [
      "[[43 48 30  1  1 15 16  2 23 39]\n",
      " [37  6 30 34 47 38  8 34  8 27]\n",
      " [ 7 12 46 48 33 41  9  7 29 24]\n",
      " [31 20 21  5 46 16 21 33 32 47]\n",
      " [49  2 17 19 39 16 43  9  5  2]]\n",
      "[[28 29 47 23 34]\n",
      " [26 24  3 14  7]\n",
      " [ 2  8  3 10  9]\n",
      " [22 17 49 18 10]\n",
      " [38 46 36 36 50]\n",
      " [ 5 36 39 22 19]\n",
      " [14 42  4 15  9]\n",
      " [50 39 23 50 34]\n",
      " [12 29 15 20 25]\n",
      " [32 10 35 32 50]]\n",
      "[[4495. 5049. 4745. 4393. 5150.]\n",
      " [6748. 7729. 8566. 7219. 7760.]\n",
      " [4707. 6401. 7114. 5576. 5889.]\n",
      " [7200. 7891. 7073. 7410. 8498.]\n",
      " [4614. 6620. 5843. 4682. 5195.]]\n",
      "[[4985. 2610. 4933. 4031. 5326. 4361. 3048. 2436. 3145. 4152.]\n",
      " [2804. 1722. 2051. 1189. 2170. 1761. 1230. 1414. 1360. 2406.]\n",
      " [1154.  398.  801.  639. 1288.  761.  720.  708.  562.  854.]\n",
      " [2966. 2126. 3972. 3232. 3656. 3433. 1737. 1649. 2689. 3359.]\n",
      " [7154. 3352. 5782. 4460. 6994. 5170. 4206. 3530. 3688. 5380.]\n",
      " [3433. 1402. 3809. 3572. 4737. 3698. 1998. 2404. 2333. 3175.]\n",
      " [3090. 1290. 2332. 1880. 3161. 2354. 1298. 2060. 1299. 2499.]\n",
      " [6970. 3978. 5356. 3376. 6268. 4519. 3831. 3543. 3899. 5973.]\n",
      " [3539. 1380. 2765. 2293. 3765. 2617. 2054. 2000. 1708. 2601.]\n",
      " [5433. 2756. 4392. 3162. 5079. 3607. 3729. 2155. 3105. 3962.]]\n",
      "[[28  2  5 44 23 50  0  1 24 13]\n",
      " [46 36  1 23 49 25 28  4 38 37]\n",
      " [40 33 38 32 47  6 40 50 35 21]\n",
      " [18 45 41  7 13 26 40 11 47 16]]\n",
      "[[37  4  7 27 15]\n",
      " [48 19 39 50 13]\n",
      " [48 18  2  3  8]\n",
      " [ 9  8 16 42 40]\n",
      " [36 27  2 40 31]\n",
      " [ 9 31 19 40 24]\n",
      " [ 2 25 21 32 13]\n",
      " [40 11 26  6 40]\n",
      " [19 46 25 45  1]\n",
      " [22 23 23  0 37]]\n",
      "the two matrix can not be multipled following array multiple law\n"
     ]
    }
   ],
   "source": [
    "# %load PS1_2.py\n",
    "\"\"\"\n",
    "Created on Wed Oct 25 09:11:02 2023\n",
    "\n",
    "@author: 26576\n",
    "\"\"\"\n",
    "import numpy as np\n",
    "\n",
    "\n",
    "\n",
    "M1=np.random.randint(0,51,(5,10))\n",
    "print(M1)\n",
    "M2=np.random.randint(0,51,(10,5))\n",
    "print(M2)\n",
    "\n",
    "\n",
    "def Matrix_multip(M1,M2):\n",
    "    if M1.shape[0]!=M2.shape[1] or M1.shape[1]!=M2.shape[0]:\n",
    "        print(\"the two matrix can not be multipled following array multiple law\")\n",
    "    else:\n",
    "        M3=np.zeros((M1.shape[0],M1.shape[0]))\n",
    "        for i in range(0,M1.shape[0],1):\n",
    "            for j in range(0,M1.shape[0],1):\n",
    "                for k in range(0,M1.shape[1],1):\n",
    "                    M3[i,j]=M3[i,j]+M1[i,k]*M2[k,j]\n",
    "        print(M3)\n",
    "        \n",
    "        \n",
    "Matrix_multip(M1,M2)\n",
    "Matrix_multip(M2,M1)\n",
    "\n",
    "\n",
    "M1=np.random.randint(0,51,(4,10))\n",
    "print(M1)\n",
    "M2=np.random.randint(0,51,(10,5))\n",
    "print(M2)\n",
    "\n",
    "Matrix_multip(M1,M2)"
   ]
  },
  {
   "cell_type": "code",
   "execution_count": 13,
   "metadata": {},
   "outputs": [
    {
     "name": "stdout",
     "output_type": "stream",
     "text": [
      "[[ 3828  4177  2909  6725  4704]\n",
      " [ 7426  6511  5162  9601  6136]\n",
      " [10129  6825  5861  9463  7546]\n",
      " [ 7324  6529  5264  8174  4089]]\n"
     ]
    }
   ],
   "source": [
    "#TA test\n",
    "print(np.matmul(M1,M2))"
   ]
  },
  {
   "cell_type": "markdown",
   "metadata": {},
   "source": [
    "# PS1_3\n",
    "20/20  \n",
    "1.创建了Pascal_triangle(k)方法  √  \n",
    "2.能够输出第n行的Pascal_triangle    √   建议将较小的数字从科学计数法转为常规数字  \n",
    "3.报告里列出k=100和200的情况（此项本次不扣分仅提醒）    √"
   ]
  },
  {
   "cell_type": "code",
   "execution_count": 21,
   "metadata": {},
   "outputs": [
    {
     "name": "stdout",
     "output_type": "stream",
     "text": [
      "[1.]\n",
      "[1. 1.]\n",
      "[1. 4. 6. 4. 1.]\n",
      "[1.00000000e+00 9.90000000e+01 4.85100000e+03 1.56849000e+05\n",
      " 3.76437600e+06 7.15231440e+07 1.12052926e+09 1.48870315e+10\n",
      " 1.71200863e+11 1.73103095e+12 1.55792785e+13 1.26050526e+14\n",
      " 9.24370525e+14 6.18617197e+15 3.80007707e+16 2.15337701e+17\n",
      " 1.13052293e+18 5.51961194e+18 2.51448989e+19 1.07196674e+20\n",
      " 4.28786696e+20 1.61305471e+21 5.71901217e+21 1.91462581e+22\n",
      " 6.06298174e+22 1.81889452e+23 5.17685364e+23 1.39966784e+24\n",
      " 3.59914587e+24 8.81170195e+24 2.05606379e+25 4.57640004e+25\n",
      " 9.72485009e+25 1.97443926e+26 3.83273504e+26 7.11793650e+26\n",
      " 1.26541093e+27 2.15461861e+27 3.51543037e+27 5.49849366e+27\n",
      " 8.24774049e+27 1.18686997e+28 1.63901091e+28 2.17264238e+28\n",
      " 2.76518120e+28 3.37966592e+28 3.96743390e+28 4.47391483e+28\n",
      " 4.84674106e+28 5.04456723e+28 5.04456723e+28 4.84674106e+28\n",
      " 4.47391483e+28 3.96743390e+28 3.37966592e+28 2.76518120e+28\n",
      " 2.17264238e+28 1.63901091e+28 1.18686997e+28 8.24774049e+27\n",
      " 5.49849366e+27 3.51543037e+27 2.15461861e+27 1.26541093e+27\n",
      " 7.11793650e+26 3.83273504e+26 1.97443926e+26 9.72485009e+25\n",
      " 4.57640004e+25 2.05606379e+25 8.81170195e+24 3.59914587e+24\n",
      " 1.39966784e+24 5.17685364e+23 1.81889452e+23 6.06298174e+22\n",
      " 1.91462581e+22 5.71901217e+21 1.61305471e+21 4.28786696e+20\n",
      " 1.07196674e+20 2.51448989e+19 5.51961194e+18 1.13052293e+18\n",
      " 2.15337701e+17 3.80007707e+16 6.18617197e+15 9.24370525e+14\n",
      " 1.26050526e+14 1.55792785e+13 1.73103095e+12 1.71200863e+11\n",
      " 1.48870315e+10 1.12052926e+09 7.15231440e+07 3.76437600e+06\n",
      " 1.56849000e+05 4.85100000e+03 9.90000000e+01 1.00000000e+00]\n",
      "[1.00000000e+00 1.99000000e+02 1.97010000e+04 1.29369900e+06\n",
      " 6.33912510e+07 2.47225879e+09 7.99363675e+10 2.20395985e+12\n",
      " 5.28950363e+13 1.12255022e+15 2.13284541e+16 3.66461620e+17\n",
      " 5.74123205e+18 8.25854149e+19 1.09720623e+21 1.35322101e+22\n",
      " 1.55620416e+23 1.67520801e+24 1.69382143e+25 1.61358779e+26\n",
      " 1.45222901e+27 1.23785235e+28 1.00153508e+29 7.70746561e+29\n",
      " 5.65214145e+30 3.95649902e+31 2.64781088e+32 1.69656030e+33\n",
      " 1.04217276e+34 6.14522558e+34 3.48229449e+35 1.89841216e+36\n",
      " 9.96666383e+36 5.04373594e+37 2.46252990e+38 1.16090695e+39\n",
      " 5.28857612e+39 2.32983218e+40 9.93244246e+40 4.10031599e+41\n",
      " 1.64012640e+42 6.36049017e+42 2.39275583e+43 8.73634104e+43\n",
      " 3.09743000e+44 1.06689256e+45 3.57177074e+45 1.16272537e+46\n",
      " 3.68196366e+46 1.13464594e+47 3.40393783e+47 9.94483799e+47\n",
      " 2.83045389e+48 7.85050418e+48 2.12254372e+49 5.59579709e+49\n",
      " 1.43891925e+50 3.60992023e+50 8.83808056e+50 2.11215145e+51\n",
      " 4.92835339e+51 1.12301823e+52 2.49962123e+52 5.43568426e+52\n",
      " 1.15508290e+53 2.39901834e+53 4.87073421e+53 9.66877089e+53\n",
      " 1.87687905e+54 3.56335009e+54 6.61765016e+54 1.20236179e+55\n",
      " 2.13753207e+55 3.71872018e+55 6.33187490e+55 1.05531248e+56\n",
      " 1.72182563e+56 2.75044873e+56 4.30198392e+56 6.58911461e+56\n",
      " 9.88367191e+56 1.45204563e+57 2.08952907e+57 2.94548074e+57\n",
      " 4.06756864e+57 5.50318111e+57 7.29491449e+57 9.47500388e+57\n",
      " 1.20590958e+58 1.50399959e+58 1.83822173e+58 2.20182602e+58\n",
      " 2.58475229e+58 2.97385478e+58 3.35349582e+58 3.70649538e+58\n",
      " 4.01536999e+58 4.26374340e+58 4.43777374e+58 4.52742573e+58\n",
      " 4.52742573e+58 4.43777374e+58 4.26374340e+58 4.01536999e+58\n",
      " 3.70649538e+58 3.35349582e+58 2.97385478e+58 2.58475229e+58\n",
      " 2.20182602e+58 1.83822173e+58 1.50399959e+58 1.20590958e+58\n",
      " 9.47500388e+57 7.29491449e+57 5.50318111e+57 4.06756864e+57\n",
      " 2.94548074e+57 2.08952907e+57 1.45204563e+57 9.88367191e+56\n",
      " 6.58911461e+56 4.30198392e+56 2.75044873e+56 1.72182563e+56\n",
      " 1.05531248e+56 6.33187490e+55 3.71872018e+55 2.13753207e+55\n",
      " 1.20236179e+55 6.61765016e+54 3.56335009e+54 1.87687905e+54\n",
      " 9.66877089e+53 4.87073421e+53 2.39901834e+53 1.15508290e+53\n",
      " 5.43568426e+52 2.49962123e+52 1.12301823e+52 4.92835339e+51\n",
      " 2.11215145e+51 8.83808056e+50 3.60992023e+50 1.43891925e+50\n",
      " 5.59579709e+49 2.12254372e+49 7.85050418e+48 2.83045389e+48\n",
      " 9.94483799e+47 3.40393783e+47 1.13464594e+47 3.68196366e+46\n",
      " 1.16272537e+46 3.57177074e+45 1.06689256e+45 3.09743000e+44\n",
      " 8.73634104e+43 2.39275583e+43 6.36049017e+42 1.64012640e+42\n",
      " 4.10031599e+41 9.93244246e+40 2.32983218e+40 5.28857612e+39\n",
      " 1.16090695e+39 2.46252990e+38 5.04373594e+37 9.96666383e+36\n",
      " 1.89841216e+36 3.48229449e+35 6.14522558e+34 1.04217276e+34\n",
      " 1.69656030e+33 2.64781088e+32 3.95649902e+31 5.65214145e+30\n",
      " 7.70746561e+29 1.00153508e+29 1.23785235e+28 1.45222901e+27\n",
      " 1.61358779e+26 1.69382143e+25 1.67520801e+24 1.55620416e+23\n",
      " 1.35322101e+22 1.09720623e+21 8.25854149e+19 5.74123205e+18\n",
      " 3.66461620e+17 2.13284541e+16 1.12255022e+15 5.28950363e+13\n",
      " 2.20395985e+12 7.99363675e+10 2.47225879e+09 6.33912510e+07\n",
      " 1.29369900e+06 1.97010000e+04 1.99000000e+02 1.00000000e+00]\n"
     ]
    },
    {
     "data": {
      "text/plain": [
       "array([1.00000000e+00, 1.99000000e+02, 1.97010000e+04, 1.29369900e+06,\n",
       "       6.33912510e+07, 2.47225879e+09, 7.99363675e+10, 2.20395985e+12,\n",
       "       5.28950363e+13, 1.12255022e+15, 2.13284541e+16, 3.66461620e+17,\n",
       "       5.74123205e+18, 8.25854149e+19, 1.09720623e+21, 1.35322101e+22,\n",
       "       1.55620416e+23, 1.67520801e+24, 1.69382143e+25, 1.61358779e+26,\n",
       "       1.45222901e+27, 1.23785235e+28, 1.00153508e+29, 7.70746561e+29,\n",
       "       5.65214145e+30, 3.95649902e+31, 2.64781088e+32, 1.69656030e+33,\n",
       "       1.04217276e+34, 6.14522558e+34, 3.48229449e+35, 1.89841216e+36,\n",
       "       9.96666383e+36, 5.04373594e+37, 2.46252990e+38, 1.16090695e+39,\n",
       "       5.28857612e+39, 2.32983218e+40, 9.93244246e+40, 4.10031599e+41,\n",
       "       1.64012640e+42, 6.36049017e+42, 2.39275583e+43, 8.73634104e+43,\n",
       "       3.09743000e+44, 1.06689256e+45, 3.57177074e+45, 1.16272537e+46,\n",
       "       3.68196366e+46, 1.13464594e+47, 3.40393783e+47, 9.94483799e+47,\n",
       "       2.83045389e+48, 7.85050418e+48, 2.12254372e+49, 5.59579709e+49,\n",
       "       1.43891925e+50, 3.60992023e+50, 8.83808056e+50, 2.11215145e+51,\n",
       "       4.92835339e+51, 1.12301823e+52, 2.49962123e+52, 5.43568426e+52,\n",
       "       1.15508290e+53, 2.39901834e+53, 4.87073421e+53, 9.66877089e+53,\n",
       "       1.87687905e+54, 3.56335009e+54, 6.61765016e+54, 1.20236179e+55,\n",
       "       2.13753207e+55, 3.71872018e+55, 6.33187490e+55, 1.05531248e+56,\n",
       "       1.72182563e+56, 2.75044873e+56, 4.30198392e+56, 6.58911461e+56,\n",
       "       9.88367191e+56, 1.45204563e+57, 2.08952907e+57, 2.94548074e+57,\n",
       "       4.06756864e+57, 5.50318111e+57, 7.29491449e+57, 9.47500388e+57,\n",
       "       1.20590958e+58, 1.50399959e+58, 1.83822173e+58, 2.20182602e+58,\n",
       "       2.58475229e+58, 2.97385478e+58, 3.35349582e+58, 3.70649538e+58,\n",
       "       4.01536999e+58, 4.26374340e+58, 4.43777374e+58, 4.52742573e+58,\n",
       "       4.52742573e+58, 4.43777374e+58, 4.26374340e+58, 4.01536999e+58,\n",
       "       3.70649538e+58, 3.35349582e+58, 2.97385478e+58, 2.58475229e+58,\n",
       "       2.20182602e+58, 1.83822173e+58, 1.50399959e+58, 1.20590958e+58,\n",
       "       9.47500388e+57, 7.29491449e+57, 5.50318111e+57, 4.06756864e+57,\n",
       "       2.94548074e+57, 2.08952907e+57, 1.45204563e+57, 9.88367191e+56,\n",
       "       6.58911461e+56, 4.30198392e+56, 2.75044873e+56, 1.72182563e+56,\n",
       "       1.05531248e+56, 6.33187490e+55, 3.71872018e+55, 2.13753207e+55,\n",
       "       1.20236179e+55, 6.61765016e+54, 3.56335009e+54, 1.87687905e+54,\n",
       "       9.66877089e+53, 4.87073421e+53, 2.39901834e+53, 1.15508290e+53,\n",
       "       5.43568426e+52, 2.49962123e+52, 1.12301823e+52, 4.92835339e+51,\n",
       "       2.11215145e+51, 8.83808056e+50, 3.60992023e+50, 1.43891925e+50,\n",
       "       5.59579709e+49, 2.12254372e+49, 7.85050418e+48, 2.83045389e+48,\n",
       "       9.94483799e+47, 3.40393783e+47, 1.13464594e+47, 3.68196366e+46,\n",
       "       1.16272537e+46, 3.57177074e+45, 1.06689256e+45, 3.09743000e+44,\n",
       "       8.73634104e+43, 2.39275583e+43, 6.36049017e+42, 1.64012640e+42,\n",
       "       4.10031599e+41, 9.93244246e+40, 2.32983218e+40, 5.28857612e+39,\n",
       "       1.16090695e+39, 2.46252990e+38, 5.04373594e+37, 9.96666383e+36,\n",
       "       1.89841216e+36, 3.48229449e+35, 6.14522558e+34, 1.04217276e+34,\n",
       "       1.69656030e+33, 2.64781088e+32, 3.95649902e+31, 5.65214145e+30,\n",
       "       7.70746561e+29, 1.00153508e+29, 1.23785235e+28, 1.45222901e+27,\n",
       "       1.61358779e+26, 1.69382143e+25, 1.67520801e+24, 1.55620416e+23,\n",
       "       1.35322101e+22, 1.09720623e+21, 8.25854149e+19, 5.74123205e+18,\n",
       "       3.66461620e+17, 2.13284541e+16, 1.12255022e+15, 5.28950363e+13,\n",
       "       2.20395985e+12, 7.99363675e+10, 2.47225879e+09, 6.33912510e+07,\n",
       "       1.29369900e+06, 1.97010000e+04, 1.99000000e+02, 1.00000000e+00])"
      ]
     },
     "execution_count": 21,
     "metadata": {},
     "output_type": "execute_result"
    }
   ],
   "source": [
    "# %load PS1_3.py\n",
    "\"\"\"\n",
    "Created on Wed Oct 25 09:13:19 2023\n",
    "\n",
    "@author: 26576\n",
    "\"\"\"\n",
    "\n",
    "def Pascal_triangle(k):\n",
    "    x=np.ones((k,k))\n",
    "    for i in range(2,k,1):\n",
    "        for j in range(1,i,1):\n",
    "            x[i,j]=x[i-1,j-1]+x[i-1,j]\n",
    "    print(x[k-1,:])\n",
    "    return x[k-1,:]\n",
    "\n",
    "    \n",
    "    \n",
    "Pascal_triangle(1)\n",
    "Pascal_triangle(2)\n",
    "Pascal_triangle(5)\n",
    "Pascal_triangle(100)\n",
    "Pascal_triangle(200)"
   ]
  },
  {
   "cell_type": "markdown",
   "metadata": {},
   "source": [
    "# PS1_4\n",
    "20/20  \n",
    "1.创建了Least_moves(x)方法  √  \n",
    "2.方法能满足题目要求，且把结果print出来 √  \n",
    "3.报告里列出部分例子（此项本次不扣分仅提醒）    √"
   ]
  },
  {
   "cell_type": "code",
   "execution_count": 25,
   "metadata": {},
   "outputs": [
    {
     "name": "stdout",
     "output_type": "stream",
     "text": [
      "1\n",
      "2\n",
      "3\n",
      "12\n",
      "14\n"
     ]
    }
   ],
   "source": [
    "# %load PS1_4.py\n",
    "\"\"\"\n",
    "Created on Wed Oct 25 09:16:40 2023\n",
    "\n",
    "@author: 26576\n",
    "\"\"\"\n",
    "\n",
    "def least_moves(x):\n",
    "    n=0\n",
    "    while x>1:\n",
    "        if x%2==1:\n",
    "            x=(x-1)/2\n",
    "            n=n+2\n",
    "        else:\n",
    "            x=x/2\n",
    "            n=n+1\n",
    "    print(n)\n",
    "\n",
    "\n",
    "\n",
    "least_moves(2)\n",
    "least_moves(3)\n",
    "least_moves(5)\n",
    "least_moves(245)\n",
    "least_moves(1543)\n"
   ]
  },
  {
   "cell_type": "markdown",
   "metadata": {},
   "source": [
    "# PS1_5\n",
    "35/35  \n",
    "1.创建了Find_expression(x)方法  √  \n",
    "2.方法满足题目要求，可以计算1到100的所有可能性组合，数字保持顺序    √  \n",
    "3.将所有可能性组合数放到名为Total_solutions的list里，并plot，找出可能性组合数最多和最少的数 √  \n",
    "4.报告里列出部分例子（此项本次不扣分仅提醒）    √  "
   ]
  },
  {
   "cell_type": "code",
   "execution_count": 27,
   "metadata": {},
   "outputs": [
    {
     "name": "stdout",
     "output_type": "stream",
     "text": [
      "12+3+4-56+78+9=50\n",
      "12-3+45+6+7-8-9=50\n",
      "12-3-4-5+67-8-9=50\n",
      "1+2+34-56+78-9=50\n",
      "1+2+34-5-6+7+8+9=50\n",
      "1+2+3+4-56+7+89=50\n",
      "1+2+3-4+56-7+8-9=50\n",
      "1+2-34+5-6-7+89=50\n",
      "1+2-3+4+56+7-8-9=50\n",
      "1-23+4+5-6+78-9=50\n",
      "1-23-4-5-6+78+9=50\n",
      "1-2+34+5+6+7+8-9=50\n",
      "1-2+34-5-67+89=50\n",
      "1-2+3-45+6+78+9=50\n",
      "1-2-34-5-6+7+89=50\n",
      "1-2-3+4+56-7-8+9=50\n",
      "1-2-3-4-5-6+78-9=50\n",
      "123+45-6-78-9=75\n",
      "12+3-4+56+7-8+9=75\n",
      "12-34-5+6+7+89=75\n",
      "12-3+4+56+7+8-9=75\n",
      "12-3-4-5+6+78-9=75\n",
      "1+23-4+5+67-8-9=75\n",
      "1+2+3-4+5+67-8+9=75\n",
      "1+2-3+45+6+7+8+9=75\n",
      "1+2-3+4+5+67+8-9=75\n",
      "1+2-3+4-5-6-7+89=75\n",
      "1+2-3-4-5+67+8+9=75\n",
      "1-23+4+5+6-7+89=75\n",
      "1-2-3-4-5+6-7+89=75\n"
     ]
    }
   ],
   "source": [
    "# %load PS1_5.py\n",
    "\"\"\"\n",
    "Created on Wed Oct 25 09:17:27 2023\n",
    "\n",
    "@author: 26576\n",
    "\"\"\"\n",
    "import numpy as np\n",
    "import matplotlib.pyplot as plt\n",
    "\n",
    "\n",
    "def Find_expression(a):\n",
    "    y=np.array([\"\",\"+\",\"-\"])\n",
    "    for i in y:\n",
    "        for j in y:\n",
    "            for k in y:\n",
    "                for l in y:\n",
    "                    for m in y:\n",
    "                        for n in y:\n",
    "                            for o in y:\n",
    "                                for q in y:\n",
    "                                    z=\"1\"+i+\"2\"+j+\"3\"+k+\"4\"+l+\"5\"+m+\"6\"+n+\"7\"+o+\"8\"+q+\"9\"\n",
    "                                    if eval(z)==a:\n",
    "                                        print(z+\"=\"+str(a))\n",
    "                                        \n",
    "                                        \n",
    "def Find_expression_count(a):\n",
    "    y=np.array([\"\",\"+\",\"-\"])\n",
    "    count=0\n",
    "    for i in y:\n",
    "        for j in y:\n",
    "            for k in y:\n",
    "                for l in y:\n",
    "                    for m in y:\n",
    "                        for n in y:\n",
    "                            for o in y:\n",
    "                                for q in y:\n",
    "                                    z=\"1\"+i+\"2\"+j+\"3\"+k+\"4\"+l+\"5\"+m+\"6\"+n+\"7\"+o+\"8\"+q+\"9\"\n",
    "                                    if eval(z)==a:\n",
    "                                        count+=1\n",
    "    return count\n",
    "\n",
    "\n",
    "Find_expression(50)\n",
    "Find_expression(75)\n"
   ]
  },
  {
   "cell_type": "code",
   "execution_count": 28,
   "metadata": {},
   "outputs": [
    {
     "name": "stdout",
     "output_type": "stream",
     "text": [
      "26.0\n",
      "(array([ 0, 44], dtype=int64),)\n",
      "6.0\n",
      "(array([87], dtype=int64),)\n"
     ]
    },
    {
     "data": {
      "image/png": "[encoded data removed]",
      "text/plain": [
       "<Figure size 432x288 with 1 Axes>"
      ]
     },
     "metadata": {
      "needs_background": "light"
     },
     "output_type": "display_data"
    }
   ],
   "source": [
    "\n",
    "x=np.linspace(1,100,100)\n",
    "Total_solutions=np.zeros((100))\n",
    "for i in range(0,100,1):\n",
    "    Total_solutions[i]=Find_expression_count(i+1)\n",
    "plt.plot(x,Total_solutions)\n",
    "\n",
    "print(max(Total_solutions))\n",
    "print(np.where(Total_solutions==max(Total_solutions)))\n",
    "\n",
    "print(min(Total_solutions))\n",
    "print(np.where(Total_solutions==min(Total_solutions)))"
   ]
  }
 ],
 "metadata": {
  "kernelspec": {
   "display_name": "py311",
   "language": "python",
   "name": "python3"
  },
  "language_info": {
   "codemirror_mode": {
    "name": "ipython",
    "version": 3
   },
   "file_extension": ".py",
   "mimetype": "text/x-python",
   "name": "python",
   "nbconvert_exporter": "python",
   "pygments_lexer": "ipython3",
   "version": "3.9.7"
  }
 },
 "nbformat": 4,
 "nbformat_minor": 2
}
